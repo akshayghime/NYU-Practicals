{
 "cells": [
  {
   "cell_type": "code",
   "execution_count": 162,
   "id": "45e6095b-c124-40e2-8ce8-1cb104cfc197",
   "metadata": {},
   "outputs": [],
   "source": [
    "#Question 1"
   ]
  },
  {
   "cell_type": "code",
   "execution_count": 163,
   "id": "d17feaf7-e495-4f83-b67e-186a51a15b51",
   "metadata": {},
   "outputs": [],
   "source": [
    "import pandas as pd\n",
    "import numpy as np"
   ]
  },
  {
   "cell_type": "code",
   "execution_count": 164,
   "id": "9e4db998-c306-455d-a854-e0aa0dfd9a58",
   "metadata": {},
   "outputs": [],
   "source": [
    "df = pd.read_csv(\"data/train.csv\")"
   ]
  },
  {
   "cell_type": "code",
   "execution_count": 165,
   "id": "60ab8de5-7cbf-463f-9073-c59481142d40",
   "metadata": {},
   "outputs": [
    {
     "data": {
      "text/plain": [
       "Index(['Id', 'MSSubClass', 'MSZoning', 'LotFrontage', 'LotArea', 'Street',\n",
       "       'Alley', 'LotShape', 'LandContour', 'Utilities', 'LotConfig',\n",
       "       'LandSlope', 'Neighborhood', 'Condition1', 'Condition2', 'BldgType',\n",
       "       'HouseStyle', 'OverallQual', 'OverallCond', 'YearBuilt', 'YearRemodAdd',\n",
       "       'RoofStyle', 'RoofMatl', 'Exterior1st', 'Exterior2nd', 'MasVnrType',\n",
       "       'MasVnrArea', 'ExterQual', 'ExterCond', 'Foundation', 'BsmtQual',\n",
       "       'BsmtCond', 'BsmtExposure', 'BsmtFinType1', 'BsmtFinSF1',\n",
       "       'BsmtFinType2', 'BsmtFinSF2', 'BsmtUnfSF', 'TotalBsmtSF', 'Heating',\n",
       "       'HeatingQC', 'CentralAir', 'Electrical', '1stFlrSF', '2ndFlrSF',\n",
       "       'LowQualFinSF', 'GrLivArea', 'BsmtFullBath', 'BsmtHalfBath', 'FullBath',\n",
       "       'HalfBath', 'BedroomAbvGr', 'KitchenAbvGr', 'KitchenQual',\n",
       "       'TotRmsAbvGrd', 'Functional', 'Fireplaces', 'FireplaceQu', 'GarageType',\n",
       "       'GarageYrBlt', 'GarageFinish', 'GarageCars', 'GarageArea', 'GarageQual',\n",
       "       'GarageCond', 'PavedDrive', 'WoodDeckSF', 'OpenPorchSF',\n",
       "       'EnclosedPorch', '3SsnPorch', 'ScreenPorch', 'PoolArea', 'PoolQC',\n",
       "       'Fence', 'MiscFeature', 'MiscVal', 'MoSold', 'YrSold', 'SaleType',\n",
       "       'SaleCondition', 'SalePrice'],\n",
       "      dtype='object')"
      ]
     },
     "execution_count": 165,
     "metadata": {},
     "output_type": "execute_result"
    }
   ],
   "source": [
    "df.columns"
   ]
  },
  {
   "cell_type": "code",
   "execution_count": 166,
   "id": "a6f8f977-db1a-44c8-9ffc-831941e5ab07",
   "metadata": {},
   "outputs": [],
   "source": [
    "X = df[['1stFlrSF','2ndFlrSF','TotalBsmtSF']].values"
   ]
  },
  {
   "cell_type": "code",
   "execution_count": 167,
   "id": "4c98c3a6-ff75-469d-8b4d-feef1308a3f2",
   "metadata": {},
   "outputs": [
    {
     "data": {
      "text/plain": [
       "array([[1.000e+00, 8.560e+02, 8.540e+02, 8.560e+02],\n",
       "       [1.000e+00, 1.262e+03, 0.000e+00, 1.262e+03],\n",
       "       [1.000e+00, 9.200e+02, 8.660e+02, 9.200e+02],\n",
       "       ...,\n",
       "       [1.000e+00, 1.188e+03, 1.152e+03, 1.152e+03],\n",
       "       [1.000e+00, 1.078e+03, 0.000e+00, 1.078e+03],\n",
       "       [1.000e+00, 1.256e+03, 0.000e+00, 1.256e+03]], shape=(1460, 4))"
      ]
     },
     "execution_count": 167,
     "metadata": {},
     "output_type": "execute_result"
    }
   ],
   "source": [
    "X = np.c_[np.ones(X.shape[0]), X]\n",
    "X"
   ]
  },
  {
   "cell_type": "code",
   "execution_count": 168,
   "id": "afcf71a4-d06d-4630-9ac8-f8d594348660",
   "metadata": {},
   "outputs": [
    {
     "data": {
      "text/plain": [
       "array([208500, 181500, 223500, ..., 266500, 142125, 147500], shape=(1460,))"
      ]
     },
     "execution_count": 168,
     "metadata": {},
     "output_type": "execute_result"
    }
   ],
   "source": [
    "y = df['SalePrice'].values\n",
    "y"
   ]
  },
  {
   "cell_type": "code",
   "execution_count": 169,
   "id": "008979f3-7d19-411a-a8f7-71bdfb7f0b1a",
   "metadata": {},
   "outputs": [],
   "source": [
    "#Calculate the beta vector using the normal equation (Equation 1)\n",
    "X_transpose = X.T\n",
    "beta = np.linalg.inv(X_transpose @ X) @ X_transpose @ y"
   ]
  },
  {
   "cell_type": "code",
   "execution_count": 170,
   "id": "bd05f44c-b34f-46c1-a983-ed8bb22a7266",
   "metadata": {},
   "outputs": [],
   "source": [
    "#Generate predictions using the beta vector\n",
    "y_pred = X @ beta"
   ]
  },
  {
   "cell_type": "code",
   "execution_count": 171,
   "id": "bef6c0fd-5fb7-401e-9c65-7eddffbfc273",
   "metadata": {},
   "outputs": [],
   "source": [
    "from sklearn.metrics import r2_score"
   ]
  },
  {
   "cell_type": "code",
   "execution_count": 172,
   "id": "682093f8-5ca9-4812-956d-975fbf8c2ed5",
   "metadata": {},
   "outputs": [],
   "source": [
    "R2 = r2_score(y, y_pred)"
   ]
  },
  {
   "cell_type": "code",
   "execution_count": 173,
   "id": "e99b9161-0667-47c9-ac28-1314c3a794fc",
   "metadata": {},
   "outputs": [
    {
     "name": "stdout",
     "output_type": "stream",
     "text": [
      "R^2 = 0.615\n"
     ]
    }
   ],
   "source": [
    "print(f\"R^2 = {R2:4.3f}\")"
   ]
  },
  {
   "cell_type": "code",
   "execution_count": 174,
   "id": "cbfd2102-bce0-4f1b-87c8-70796ba200f0",
   "metadata": {},
   "outputs": [],
   "source": [
    "#Question 2"
   ]
  },
  {
   "cell_type": "code",
   "execution_count": 244,
   "id": "d45434cd-1432-4c53-b058-d3456d9be249",
   "metadata": {},
   "outputs": [],
   "source": [
    "# While the name of the package is scikit-learn, you import it as sklearn.\n",
    "from sklearn.linear_model import LinearRegression\n",
    "\n",
    "import pandas as pd\n",
    "import numpy as np"
   ]
  },
  {
   "cell_type": "code",
   "execution_count": 245,
   "id": "7d59d9b1-dc0a-4f91-b550-e2200c473dcc",
   "metadata": {},
   "outputs": [],
   "source": [
    "model = LinearRegression(fit_intercept=True)"
   ]
  },
  {
   "cell_type": "code",
   "execution_count": 246,
   "id": "cd2d6bf1-27f4-4877-8bb8-d5351864fb74",
   "metadata": {},
   "outputs": [],
   "source": [
    "df2 = pd.read_csv(\"data/train.csv\")"
   ]
  },
  {
   "cell_type": "code",
   "execution_count": 247,
   "id": "1c904f26-7c68-4219-b78b-03f67a1a45ab",
   "metadata": {},
   "outputs": [],
   "source": [
    "X = df[['1stFlrSF','2ndFlrSF','TotalBsmtSF','LotArea','OverallQual','GrLivArea','GarageCars','GarageArea']]"
   ]
  },
  {
   "cell_type": "code",
   "execution_count": 248,
   "id": "e1e8572c-971d-4ee9-b5cb-b52bcf55092b",
   "metadata": {},
   "outputs": [
    {
     "data": {
      "text/plain": [
       "(1460, 8)"
      ]
     },
     "execution_count": 248,
     "metadata": {},
     "output_type": "execute_result"
    }
   ],
   "source": [
    "X.shape"
   ]
  },
  {
   "cell_type": "code",
   "execution_count": 249,
   "id": "77689d00-0085-4d8a-bc69-41861f477a84",
   "metadata": {},
   "outputs": [],
   "source": [
    "y = df['SalePrice'].values"
   ]
  },
  {
   "cell_type": "code",
   "execution_count": 250,
   "id": "92c0ba48-a301-4eab-afb0-6995f46e8a8a",
   "metadata": {},
   "outputs": [
    {
     "data": {
      "text/plain": [
       "(1460,)"
      ]
     },
     "execution_count": 250,
     "metadata": {},
     "output_type": "execute_result"
    }
   ],
   "source": [
    "y.shape"
   ]
  },
  {
   "cell_type": "code",
   "execution_count": 251,
   "id": "af8feb00-00a5-404c-a46f-efe4a2ddd56f",
   "metadata": {},
   "outputs": [],
   "source": [
    "from sklearn.metrics import r2_score, mean_squared_error, mean_absolute_error, mean_absolute_percentage_error"
   ]
  },
  {
   "cell_type": "code",
   "execution_count": 255,
   "id": "c9da86e9-24cf-4b3e-94e1-94a5438893ea",
   "metadata": {},
   "outputs": [
    {
     "name": "stdout",
     "output_type": "stream",
     "text": [
      "Model with 1 feature(s):\n",
      "  R^2: 0.3671\n",
      "  MSE: 3991838509.3767\n",
      "  MAE: 46242.0748\n",
      "  MAPE: 27.8931%\n",
      "\n",
      "Model with 2 feature(s):\n",
      "  R^2: 0.5709\n",
      "  MSE: 2706330006.6369\n",
      "  MAE: 34669.1001\n",
      "  MAPE: 20.7561%\n",
      "\n",
      "Model with 3 feature(s):\n",
      "  R^2: 0.6155\n",
      "  MSE: 2425269115.9826\n",
      "  MAE: 31550.3486\n",
      "  MAPE: 18.9388%\n",
      "\n",
      "Model with 4 feature(s):\n",
      "  R^2: 0.6161\n",
      "  MSE: 2420913519.9641\n",
      "  MAE: 31472.1546\n",
      "  MAPE: 18.8859%\n",
      "\n",
      "Model with 5 feature(s):\n",
      "  R^2: 0.7511\n",
      "  MSE: 1569599128.5029\n",
      "  MAE: 25405.6874\n",
      "  MAPE: 15.7263%\n",
      "\n",
      "Model with 6 feature(s):\n",
      "  R^2: 0.7514\n",
      "  MSE: 1567561876.6445\n",
      "  MAE: 25376.2956\n",
      "  MAPE: 15.7107%\n",
      "\n",
      "Model with 7 feature(s):\n",
      "  R^2: 0.7672\n",
      "  MSE: 1468278915.5527\n",
      "  MAE: 24641.5472\n",
      "  MAPE: 15.1798%\n",
      "\n",
      "Model with 8 feature(s):\n",
      "  R^2: 0.7675\n",
      "  MSE: 1466204848.1485\n",
      "  MAE: 24500.1427\n",
      "  MAPE: 15.0838%\n",
      "\n"
     ]
    }
   ],
   "source": [
    "# Initialize lists to store metrics\n",
    "r2_scores = []\n",
    "mse_scores = []\n",
    "mae_scores = []\n",
    "mape_scores = []\n",
    "\n",
    "for i in range(1, X.shape[1] + 1):\n",
    "    # Select the first i features\n",
    "    X_subset = X.iloc[:, :i]\n",
    "    model = model.fit(X_subset,y)\n",
    "\n",
    "    # Make predictions\n",
    "    y_pred = model.predict(X_subset)\n",
    "\n",
    "    # Calculate R-squared and Mean Squared Error (MSE), Mean Absolute Error, and Mean Absolute Percentage Error.\n",
    "    r2 = r2_score(y, y_pred)\n",
    "    mse = mean_squared_error(y, y_pred)\n",
    "    mae = mean_absolute_error(y,y_pred)\n",
    "    mape = np.mean(np.abs((y - y_pred) / y) * 100)\n",
    "\n",
    "    # Append metrics to lists\n",
    "    r2_scores.append(r2)\n",
    "    mse_scores.append(mse)\n",
    "    mae_scores.append(mae)\n",
    "    mape_scores.append(mape)\n",
    "    \n",
    "    print(f\"Model with {i} feature(s):\")\n",
    "    print(f\"  R^2: {r2:.4f}\")\n",
    "    print(f\"  MSE: {mse:.4f}\")\n",
    "    print(f\"  MAE: {mae:.4f}\")\n",
    "    print(f\"  MAPE: {mape:.4f}%\")\n",
    "    print()"
   ]
  },
  {
   "cell_type": "code",
   "execution_count": 241,
   "id": "466061f3-04ed-4430-86c5-b81c79129dee",
   "metadata": {},
   "outputs": [
    {
     "data": {
      "text/plain": [
       "(1460, 8)"
      ]
     },
     "execution_count": 241,
     "metadata": {},
     "output_type": "execute_result"
    }
   ],
   "source": [
    "X.shape"
   ]
  },
  {
   "cell_type": "code",
   "execution_count": 243,
   "id": "8fd6841f-b197-4554-8646-51ab8fee4555",
   "metadata": {},
   "outputs": [
    {
     "name": "stdout",
     "output_type": "stream",
     "text": [
      "Defaulting to user installation because normal site-packages is not writeable\n",
      "Requirement already satisfied: matplotlib in /home/akshayghime/.local/lib/python3.10/site-packages (3.10.0)\n",
      "Requirement already satisfied: contourpy>=1.0.1 in /home/akshayghime/.local/lib/python3.10/site-packages (from matplotlib) (1.3.1)\n",
      "Requirement already satisfied: cycler>=0.10 in /home/akshayghime/.local/lib/python3.10/site-packages (from matplotlib) (0.12.1)\n",
      "Requirement already satisfied: fonttools>=4.22.0 in /home/akshayghime/.local/lib/python3.10/site-packages (from matplotlib) (4.56.0)\n",
      "Requirement already satisfied: kiwisolver>=1.3.1 in /home/akshayghime/.local/lib/python3.10/site-packages (from matplotlib) (1.4.8)\n",
      "Requirement already satisfied: numpy>=1.23 in /home/akshayghime/.local/lib/python3.10/site-packages (from matplotlib) (2.2.1)\n",
      "Requirement already satisfied: packaging>=20.0 in /home/akshayghime/.local/lib/python3.10/site-packages (from matplotlib) (24.2)\n",
      "Requirement already satisfied: pillow>=8 in /usr/lib/python3/dist-packages (from matplotlib) (9.0.1)\n",
      "Requirement already satisfied: pyparsing>=2.3.1 in /usr/lib/python3/dist-packages (from matplotlib) (2.4.7)\n",
      "Requirement already satisfied: python-dateutil>=2.7 in /home/akshayghime/.local/lib/python3.10/site-packages (from matplotlib) (2.9.0.post0)\n",
      "Requirement already satisfied: six>=1.5 in /usr/local/lib/python3.10/dist-packages (from python-dateutil>=2.7->matplotlib) (1.17.0)\n",
      "\n",
      "\u001b[1m[\u001b[0m\u001b[34;49mnotice\u001b[0m\u001b[1;39;49m]\u001b[0m\u001b[39;49m A new release of pip is available: \u001b[0m\u001b[31;49m24.3.1\u001b[0m\u001b[39;49m -> \u001b[0m\u001b[32;49m25.0.1\u001b[0m\n",
      "\u001b[1m[\u001b[0m\u001b[34;49mnotice\u001b[0m\u001b[1;39;49m]\u001b[0m\u001b[39;49m To update, run: \u001b[0m\u001b[32;49mpython3 -m pip install --upgrade pip\u001b[0m\n",
      "Note: you may need to restart the kernel to use updated packages.\n"
     ]
    }
   ],
   "source": [
    "pip install matplotlib"
   ]
  },
  {
   "cell_type": "code",
   "execution_count": 256,
   "id": "3271de8f-3d07-4114-aefa-fb62dc55e70c",
   "metadata": {},
   "outputs": [],
   "source": [
    "import matplotlib.pyplot as plt"
   ]
  },
  {
   "cell_type": "code",
   "execution_count": 259,
   "id": "3905602b-40ab-461c-a38a-31930e5a9514",
   "metadata": {},
   "outputs": [],
   "source": [
    "#Plot the metrics\n",
    "num_features = list(range(1, X.shape[1] + 1))"
   ]
  },
  {
   "cell_type": "code",
   "execution_count": 260,
   "id": "53485011-c1f9-45a2-a8d7-f0ab5ad22b7c",
   "metadata": {},
   "outputs": [
    {
     "data": {
      "text/plain": [
       "<Figure size 1400x1000 with 0 Axes>"
      ]
     },
     "execution_count": 260,
     "metadata": {},
     "output_type": "execute_result"
    },
    {
     "data": {
      "text/plain": [
       "<Figure size 1400x1000 with 0 Axes>"
      ]
     },
     "metadata": {},
     "output_type": "display_data"
    }
   ],
   "source": [
    "plt.figure(figsize=(14, 10))"
   ]
  },
  {
   "cell_type": "code",
   "execution_count": 265,
   "id": "657810a1-f96c-4262-b543-f9d913c682d7",
   "metadata": {},
   "outputs": [
    {
     "data": {
      "image/png": "[encoded data removed]",
      "text/plain": [
       "<Figure size 640x480 with 4 Axes>"
      ]
     },
     "metadata": {},
     "output_type": "display_data"
    }
   ],
   "source": [
    "# R^2 Plot\n",
    "plt.subplot(2, 2, 1)\n",
    "plt.plot(num_features, r2_scores, marker='o')\n",
    "plt.title('R^2 vs Number of Features')\n",
    "plt.xlabel('Number of Features')\n",
    "plt.ylabel('R^2')\n",
    "\n",
    "# MSE Plot\n",
    "plt.subplot(2, 2, 2)\n",
    "plt.plot(num_features, mse_scores, marker='o', color='orange')\n",
    "plt.title('MSE vs Number of Features')\n",
    "plt.xlabel('Number of Features')\n",
    "plt.ylabel('MSE')\n",
    "\n",
    "\n",
    "#MAE Plot\n",
    "plt.subplot(2, 2, 3)\n",
    "plt.plot(num_features, mae_scores, marker='o', color='green')\n",
    "plt.title('MAE vs Number of Features')\n",
    "plt.xlabel('Number of Features')\n",
    "plt.ylabel('MAE')\n",
    "\n",
    "# MAPE Plot\n",
    "plt.subplot(2, 2, 4)\n",
    "plt.plot(num_features, mape_scores, marker='o', color='red')\n",
    "plt.title('MAPE vs Number of Features')\n",
    "plt.xlabel('Number of Features')\n",
    "plt.ylabel('MAPE (%)')\n",
    "\n",
    "plt.tight_layout()\n",
    "plt.show()"
   ]
  },
  {
   "cell_type": "code",
   "execution_count": null,
   "id": "bf481f46-a9fb-4694-9084-db20205cefde",
   "metadata": {},
   "outputs": [],
   "source": []
  }
 ],
 "metadata": {
  "kernelspec": {
   "display_name": "Python 3 (ipykernel)",
   "language": "python",
   "name": "python3"
  },
  "language_info": {
   "codemirror_mode": {
    "name": "ipython",
    "version": 3
   },
   "file_extension": ".py",
   "mimetype": "text/x-python",
   "name": "python",
   "nbconvert_exporter": "python",
   "pygments_lexer": "ipython3",
   "version": "3.10.12"
  }
 },
 "nbformat": 4,
 "nbformat_minor": 5
}
