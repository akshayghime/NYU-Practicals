{
 "cells": [
  {
   "cell_type": "code",
   "execution_count": 1,
   "id": "af0eed78-7b76-447d-bba7-2db25a94a831",
   "metadata": {},
   "outputs": [],
   "source": [
    "import pandas as pd\n",
    "import numpy as np"
   ]
  },
  {
   "cell_type": "code",
   "execution_count": 2,
   "id": "90f6394b-441e-4fa1-8391-a1323e4d14b1",
   "metadata": {},
   "outputs": [],
   "source": [
    "df = pd.read_csv(\"data/train.csv\")"
   ]
  },
  {
   "cell_type": "code",
   "execution_count": 3,
   "id": "3fd25326-9201-4570-95f6-4f3928736c57",
   "metadata": {},
   "outputs": [],
   "source": [
    "X = df[['1stFlrSF','2ndFlrSF','TotalBsmtSF','LotArea','OverallQual','GrLivArea','GarageCars','GarageArea']].values"
   ]
  },
  {
   "cell_type": "code",
   "execution_count": 4,
   "id": "52165bb1-5ae8-45c3-abf5-110564f4f28e",
   "metadata": {},
   "outputs": [
    {
     "data": {
      "text/plain": [
       "(1460, 8)"
      ]
     },
     "execution_count": 4,
     "metadata": {},
     "output_type": "execute_result"
    }
   ],
   "source": [
    "X.shape"
   ]
  },
  {
   "cell_type": "code",
   "execution_count": 5,
   "id": "44635bf5-12de-44f2-9552-d349c1bb3318",
   "metadata": {},
   "outputs": [
    {
     "data": {
      "text/plain": [
       "(1460,)"
      ]
     },
     "execution_count": 5,
     "metadata": {},
     "output_type": "execute_result"
    }
   ],
   "source": [
    "y = df['SalePrice'].values\n",
    "y.shape"
   ]
  },
  {
   "cell_type": "code",
   "execution_count": 11,
   "id": "1f8f6e07-df78-45ae-b18f-4a6e49a39340",
   "metadata": {},
   "outputs": [],
   "source": [
    "# While the name of the package is scikit-learn, you import it as sklearn.\n",
    "from sklearn.linear_model import LinearRegression\n",
    "model = LinearRegression(fit_intercept=True)"
   ]
  },
  {
   "cell_type": "code",
   "execution_count": 12,
   "id": "af59ad40-a786-4343-a75e-351eea99ff11",
   "metadata": {},
   "outputs": [],
   "source": [
    "model = model.fit(X, y)"
   ]
  },
  {
   "cell_type": "code",
   "execution_count": 13,
   "id": "d64464a0-00eb-4a48-8a01-0da1ca62f506",
   "metadata": {},
   "outputs": [],
   "source": [
    "y_pred = model.predict(X)"
   ]
  },
  {
   "cell_type": "code",
   "execution_count": 14,
   "id": "e7eb6d7c-bc1e-45be-89fa-43340179a87b",
   "metadata": {},
   "outputs": [],
   "source": [
    "from sklearn.metrics import r2_score"
   ]
  },
  {
   "cell_type": "code",
   "execution_count": 15,
   "id": "5402b130-32d3-4686-8ac6-35284c01181f",
   "metadata": {},
   "outputs": [
    {
     "name": "stdout",
     "output_type": "stream",
     "text": [
      "R^2 = 0.768\n"
     ]
    }
   ],
   "source": [
    "R2 = r2_score(y, y_pred)\n",
    "print(f\"R^2 = {R2:4.3f}\")"
   ]
  },
  {
   "cell_type": "code",
   "execution_count": 16,
   "id": "61151edf-f0cc-4db3-b077-4d51d6b1aa8b",
   "metadata": {},
   "outputs": [],
   "source": [
    "X = df[['1stFlrSF','2ndFlrSF','TotalBsmtSF','LotArea','OverallQual','GrLivArea','GarageCars']].values"
   ]
  },
  {
   "cell_type": "code",
   "execution_count": 17,
   "id": "c5f86783-251e-4bd2-b5ad-80f439099b23",
   "metadata": {},
   "outputs": [],
   "source": [
    "model = model.fit(X, y)"
   ]
  },
  {
   "cell_type": "code",
   "execution_count": 18,
   "id": "30aca0bd-b017-4326-a507-21e92df8739a",
   "metadata": {},
   "outputs": [],
   "source": [
    "y_pred = model.predict(X)"
   ]
  },
  {
   "cell_type": "code",
   "execution_count": 19,
   "id": "cb47c621-8d20-4931-85ce-6f7ff296a352",
   "metadata": {},
   "outputs": [
    {
     "name": "stdout",
     "output_type": "stream",
     "text": [
      "R^2 = 0.767\n"
     ]
    }
   ],
   "source": [
    "R2 = r2_score(y, y_pred)\n",
    "print(f\"R^2 = {R2:4.3f}\")"
   ]
  },
  {
   "cell_type": "code",
   "execution_count": 20,
   "id": "2687647b-e518-4fe7-9b7d-78cc06c3bea9",
   "metadata": {},
   "outputs": [],
   "source": [
    "X = df[['1stFlrSF','2ndFlrSF','TotalBsmtSF','LotArea','OverallQual','GrLivArea']].values"
   ]
  },
  {
   "cell_type": "code",
   "execution_count": 22,
   "id": "10616a22-01f2-4ff9-a551-17d9d2627ef2",
   "metadata": {},
   "outputs": [],
   "source": [
    "model = model.fit(X, y)"
   ]
  },
  {
   "cell_type": "code",
   "execution_count": 24,
   "id": "ba3f4714-53a4-4d7c-8a36-1a7a04102ab8",
   "metadata": {},
   "outputs": [],
   "source": [
    "y_pred = model.predict(X)"
   ]
  },
  {
   "cell_type": "code",
   "execution_count": 25,
   "id": "ced04216-f775-4834-b005-974946c3f5d0",
   "metadata": {},
   "outputs": [
    {
     "name": "stdout",
     "output_type": "stream",
     "text": [
      "R^2 = 0.751\n"
     ]
    }
   ],
   "source": [
    "R2 = r2_score(y, y_pred)\n",
    "print(f\"R^2 = {R2:4.3f}\")"
   ]
  },
  {
   "cell_type": "code",
   "execution_count": null,
   "id": "63b68f84-19d3-4da7-8e59-6b58e03a9b0f",
   "metadata": {},
   "outputs": [],
   "source": []
  }
 ],
 "metadata": {
  "kernelspec": {
   "display_name": "Python 3 (ipykernel)",
   "language": "python",
   "name": "python3"
  },
  "language_info": {
   "codemirror_mode": {
    "name": "ipython",
    "version": 3
   },
   "file_extension": ".py",
   "mimetype": "text/x-python",
   "name": "python",
   "nbconvert_exporter": "python",
   "pygments_lexer": "ipython3",
   "version": "3.10.12"
  }
 },
 "nbformat": 4,
 "nbformat_minor": 5
}
